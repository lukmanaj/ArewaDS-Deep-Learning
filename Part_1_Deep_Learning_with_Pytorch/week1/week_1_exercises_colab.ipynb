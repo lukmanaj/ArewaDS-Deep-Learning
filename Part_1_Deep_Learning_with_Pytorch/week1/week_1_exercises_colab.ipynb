{
  "cells": [
    {
      "cell_type": "markdown",
      "metadata": {
        "id": "view-in-github",
        "colab_type": "text"
      },
      "source": [
        "<a href=\"https://colab.research.google.com/github/lukmanaj/ArewaDS-Deep-Learning/blob/main/Part_1_Deep_Learning_with_Pytorch/week1/week_1_exercises_colab.ipynb\" target=\"_parent\"><img src=\"https://colab.research.google.com/assets/colab-badge.svg\" alt=\"Open In Colab\"/></a>"
      ]
    },
    {
      "cell_type": "markdown",
      "metadata": {
        "id": "ByuIde2HUWfy"
      },
      "source": [
        "<a href=\"https://colab.research.google.com/github/arewadataScience/ArewaDS-Deep-Learning/blob/main/Part_1_Deep_Learning_with_Pytorch/week1/week_1_exercises.ipynb\" target=\"_parent\"><img src=\"https://colab.research.google.com/assets/colab-badge.svg\" alt=\"Open In Colab\"/></a>"
      ]
    },
    {
      "cell_type": "markdown",
      "metadata": {
        "id": "vPxpIzeKUWf1"
      },
      "source": [
        "## Arewa DataScience Academy\n",
        "### Deep Learning Cohort 1.0\n",
        "\n",
        "### WEEK 1 Exercises"
      ]
    },
    {
      "cell_type": "markdown",
      "metadata": {
        "id": "ZmYregplUWf2"
      },
      "source": [
        "### Exercises:\n",
        "Please, see week 1 exercises from [**Learn PyTorch for Deep Learning**: 00. Pytorch Fundamentals](https://www.learnpytorch.io/00_pytorch_fundamentals/#exercises)"
      ]
    },
    {
      "cell_type": "markdown",
      "metadata": {
        "id": "YszOSPHvUWf2"
      },
      "source": [
        "### Additional Exercise"
      ]
    },
    {
      "cell_type": "markdown",
      "source": [
        "Creating a random tensor"
      ],
      "metadata": {
        "id": "-6pA3P8JUxeY"
      }
    },
    {
      "cell_type": "code",
      "execution_count": null,
      "metadata": {
        "vscode": {
          "languageId": "plaintext"
        },
        "id": "vR38--xdUWf2"
      },
      "outputs": [],
      "source": [
        "import torch"
      ]
    },
    {
      "cell_type": "code",
      "source": [
        "rand_tensor = torch.rand(7,7)\n",
        "rand_tensor"
      ],
      "metadata": {
        "id": "ajSIgXxnU6fA",
        "outputId": "587489d0-be40-446a-ced9-5a770255759a",
        "colab": {
          "base_uri": "https://localhost:8080/"
        }
      },
      "execution_count": null,
      "outputs": [
        {
          "output_type": "execute_result",
          "data": {
            "text/plain": [
              "tensor([[0.1161, 0.4960, 0.5086, 0.6100, 0.3690, 0.0196, 0.8272],\n",
              "        [0.0210, 0.5434, 0.6054, 0.5763, 0.0712, 0.2434, 0.2971],\n",
              "        [0.7107, 0.5260, 0.1037, 0.4191, 0.3933, 0.6645, 0.4365],\n",
              "        [0.7413, 0.8440, 0.1143, 0.1500, 0.1100, 0.7844, 0.8922],\n",
              "        [0.3843, 0.0620, 0.8704, 0.9188, 0.1776, 0.7262, 0.2049],\n",
              "        [0.5716, 0.7886, 0.6356, 0.0579, 0.7253, 0.9451, 0.5174],\n",
              "        [0.8502, 0.1848, 0.0905, 0.1655, 0.6344, 0.9864, 0.6181]])"
            ]
          },
          "metadata": {},
          "execution_count": 2
        }
      ]
    },
    {
      "cell_type": "code",
      "source": [],
      "metadata": {
        "id": "sZyHzsPlVGmu"
      },
      "execution_count": null,
      "outputs": []
    }
  ],
  "metadata": {
    "language_info": {
      "name": "python"
    },
    "colab": {
      "provenance": [],
      "include_colab_link": true
    },
    "kernelspec": {
      "name": "python3",
      "display_name": "Python 3"
    }
  },
  "nbformat": 4,
  "nbformat_minor": 0
}